{
  "nbformat": 4,
  "nbformat_minor": 0,
  "metadata": {
    "colab": {
      "provenance": []
    },
    "kernelspec": {
      "name": "python3",
      "display_name": "Python 3"
    },
    "language_info": {
      "name": "python"
    },
    "gpuClass": "standard",
    "accelerator": "GPU"
  },
  "cells": [
    {
      "cell_type": "code",
      "execution_count": 42,
      "metadata": {
        "id": "sNO40ctsUi99"
      },
      "outputs": [],
      "source": [
        "import os\n",
        "import pandas as pd\n",
        "import numpy as np\n",
        "import tensorflow as tf\n",
        "import tensorflow_hub as hub\n",
        "import matplotlib.pyplot as plt\n",
        "import seaborn as sns\n",
        "from sklearn.model_selection import train_test_split\n",
        "import re\n",
        "from sklearn.feature_extraction.text import CountVectorizer\n",
        "from sklearn.ensemble import RandomForestClassifier\n",
        "from sklearn.metrics import confusion_matrix\n",
        "import pickle"
      ]
    },
    {
      "cell_type": "code",
      "source": [
        "!pip install -q tf-models-official==2.7.0"
      ],
      "metadata": {
        "colab": {
          "base_uri": "https://localhost:8080/"
        },
        "id": "6wt3vzaKK8qC",
        "outputId": "bae10ad6-641f-4217-cb60-ece025ace83b"
      },
      "execution_count": 2,
      "outputs": [
        {
          "output_type": "stream",
          "name": "stdout",
          "text": [
            "\u001b[2K     \u001b[90m━━━━━━━━━━━━━━━━━━━━━━━━━━━━━━━━━━━━━━━━\u001b[0m \u001b[32m1.8/1.8 MB\u001b[0m \u001b[31m46.5 MB/s\u001b[0m eta \u001b[36m0:00:00\u001b[0m\n",
            "\u001b[2K     \u001b[90m━━━━━━━━━━━━━━━━━━━━━━━━━━━━━━━━━━━━━━\u001b[0m \u001b[32m118.9/118.9 KB\u001b[0m \u001b[31m15.8 MB/s\u001b[0m eta \u001b[36m0:00:00\u001b[0m\n",
            "\u001b[2K     \u001b[90m━━━━━━━━━━━━━━━━━━━━━━━━━━━━━━━━━━━━━━━━\u001b[0m \u001b[32m43.6/43.6 KB\u001b[0m \u001b[31m5.4 MB/s\u001b[0m eta \u001b[36m0:00:00\u001b[0m\n",
            "\u001b[?25h  Preparing metadata (setup.py) ... \u001b[?25l\u001b[?25hdone\n",
            "\u001b[2K     \u001b[90m━━━━━━━━━━━━━━━━━━━━━━━━━━━━━━━━━━━━━━━━\u001b[0m \u001b[32m5.8/5.8 MB\u001b[0m \u001b[31m91.8 MB/s\u001b[0m eta \u001b[36m0:00:00\u001b[0m\n",
            "\u001b[2K     \u001b[90m━━━━━━━━━━━━━━━━━━━━━━━━━━━━━━━━━━━━━━\u001b[0m \u001b[32m238.9/238.9 KB\u001b[0m \u001b[31m27.4 MB/s\u001b[0m eta \u001b[36m0:00:00\u001b[0m\n",
            "\u001b[2K     \u001b[90m━━━━━━━━━━━━━━━━━━━━━━━━━━━━━━━━━━━━━━━━\u001b[0m \u001b[32m1.1/1.1 MB\u001b[0m \u001b[31m52.8 MB/s\u001b[0m eta \u001b[36m0:00:00\u001b[0m\n",
            "\u001b[2K     \u001b[90m━━━━━━━━━━━━━━━━━━━━━━━━━━━━━━━━━━━━━━\u001b[0m \u001b[32m352.1/352.1 KB\u001b[0m \u001b[31m38.8 MB/s\u001b[0m eta \u001b[36m0:00:00\u001b[0m\n",
            "\u001b[2K     \u001b[90m━━━━━━━━━━━━━━━━━━━━━━━━━━━━━━━━━━━━━━━━\u001b[0m \u001b[32m1.3/1.3 MB\u001b[0m \u001b[31m60.9 MB/s\u001b[0m eta \u001b[36m0:00:00\u001b[0m\n",
            "\u001b[2K     \u001b[90m━━━━━━━━━━━━━━━━━━━━━━━━━━━━━━━━━━━━━━━\u001b[0m \u001b[32m588.3/588.3 MB\u001b[0m \u001b[31m2.7 MB/s\u001b[0m eta \u001b[36m0:00:00\u001b[0m\n",
            "\u001b[2K     \u001b[90m━━━━━━━━━━━━━━━━━━━━━━━━━━━━━━━━━━━━━━━━\u001b[0m \u001b[32m5.9/5.9 MB\u001b[0m \u001b[31m94.8 MB/s\u001b[0m eta \u001b[36m0:00:00\u001b[0m\n",
            "\u001b[2K     \u001b[90m━━━━━━━━━━━━━━━━━━━━━━━━━━━━━━━━━━━━━━━\u001b[0m \u001b[32m578.1/578.1 MB\u001b[0m \u001b[31m3.2 MB/s\u001b[0m eta \u001b[36m0:00:00\u001b[0m\n",
            "\u001b[2K     \u001b[90m━━━━━━━━━━━━━━━━━━━━━━━━━━━━━━━━━━━━━━━\u001b[0m \u001b[32m578.1/578.1 MB\u001b[0m \u001b[31m3.2 MB/s\u001b[0m eta \u001b[36m0:00:00\u001b[0m\n",
            "\u001b[2K     \u001b[90m━━━━━━━━━━━━━━━━━━━━━━━━━━━━━━━━━━━━━━━━\u001b[0m \u001b[32m4.6/4.6 MB\u001b[0m \u001b[31m83.7 MB/s\u001b[0m eta \u001b[36m0:00:00\u001b[0m\n",
            "\u001b[?25h  Building wheel for seqeval (setup.py) ... \u001b[?25l\u001b[?25hdone\n"
          ]
        }
      ]
    },
    {
      "cell_type": "code",
      "source": [
        "import tensorflow_text as text\n",
        "from keras.models import load_model\n",
        "from official.nlp import optimization"
      ],
      "metadata": {
        "id": "iWH-79glc9wI"
      },
      "execution_count": 3,
      "outputs": []
    },
    {
      "cell_type": "code",
      "source": [
        "from google.colab import drive\n",
        "drive.mount('/content/drive')"
      ],
      "metadata": {
        "id": "-qf9tdicUwLX",
        "colab": {
          "base_uri": "https://localhost:8080/"
        },
        "outputId": "1ab4d419-852d-491f-f724-21f2f49b6e3b"
      },
      "execution_count": 4,
      "outputs": [
        {
          "output_type": "stream",
          "name": "stdout",
          "text": [
            "Mounted at /content/drive\n"
          ]
        }
      ]
    },
    {
      "cell_type": "code",
      "source": [
        "class model:\n",
        "  def __init__(self , file=\"data/airline_sentiment_analysis.csv\"):\n",
        "    temd = pd.read_csv(file)\n",
        "    temd['airline_sentiment'].loc[temd['airline_sentiment']=='positive']=1\n",
        "    temd['airline_sentiment'].loc[temd['airline_sentiment']=='negative']=0\n",
        "    self.data = temd\n",
        "    self.data['text'] = self.data['text'].apply(self.text_cleaner)\n",
        "\n",
        "  def print_confusion(self,tp,tn,fp,fn):\n",
        "    recall = tp/(tp+fn)\n",
        "    precision = tp/(tp+fp)\n",
        "    accuracy = (tp+tn)/(tp+tn+fp+fn)\n",
        "    f1_score = (2*recall*precision)/(recall+precision)\n",
        "\n",
        "    print(\"recall: \", recall)\n",
        "    print(\"precision: \",precision)\n",
        "    print(\"accuracy \",accuracy)\n",
        "    print(\"f1_score \",f1_score)\n",
        "\n",
        "  def vectoriser_initialise(self, estimators, random_seed):\n",
        "    cv=CountVectorizer(stop_words='english')\n",
        "    self.X=cv.fit_transform(self.data['text']).toarray()\n",
        "    self.y=self.data['airline_sentiment'].astype('int64')\n",
        "    self.vectoriser_model = RandomForestClassifier(n_estimators = estimators, criterion = 'entropy', random_state = random_seed)\n",
        "    self.cv = cv\n",
        "\n",
        "  def vectoriser_fit(self):\n",
        "    self.vectoriser_model.fit(self.X_train, self.y_train)\n",
        "    \n",
        "  def vectoriser_metrics(self):\n",
        "    y_pred = self.vectoriser_model.predict(self.X_test)\n",
        "    cm = confusion_matrix(self.y_test, y_pred)\n",
        "    tp=cm[0][0]\n",
        "    tn=cm[1][1]\n",
        "    fp=cm[0][1]\n",
        "    fn=cm[1][0]\n",
        "    self.print_confusion(tp=tp,tn=tn,fp=fp,fn=fn)\n",
        "\n",
        "  def bert_initialise(self):\n",
        "    self.X = self.data['text']\n",
        "    self.y = self.data['airline_sentiment'].astype('int64')\n",
        "\n",
        "    bert_model_name = 'small_bert/bert_en_uncased_L-4_H-512_A-8' \n",
        "\n",
        "    map_name_to_handle = {\n",
        "        'small_bert/bert_en_uncased_L-4_H-512_A-8':\n",
        "            'https://tfhub.dev/tensorflow/small_bert/bert_en_uncased_L-4_H-512_A-8/1'\n",
        "    }\n",
        "\n",
        "    map_model_to_preprocess = {\n",
        "        'small_bert/bert_en_uncased_L-4_H-512_A-8':\n",
        "            'https://tfhub.dev/tensorflow/bert_en_uncased_preprocess/3'\n",
        "    }\n",
        "\n",
        "    tfhub_handle_encoder = map_name_to_handle[bert_model_name]\n",
        "    tfhub_handle_preprocess = map_model_to_preprocess[bert_model_name]\n",
        "\n",
        "    bert_preprocess_model = hub.KerasLayer(tfhub_handle_preprocess)\n",
        "    bert_model = hub.KerasLayer(tfhub_handle_encoder)   \n",
        "\n",
        "    text_input = tf.keras.layers.Input(shape=(), dtype=tf.string, name='text')\n",
        "    preprocessed_text = bert_preprocess_model(text_input)\n",
        "    outputs = bert_model(preprocessed_text)\n",
        "    self.tfhub_handle_preprocess = tfhub_handle_preprocess\n",
        "    self.tfhub_handle_encoder = tfhub_handle_encoder\n",
        "    # Neural network layers\n",
        "    l = tf.keras.layers.Dropout(0.1, name=\"dropout\")(outputs['pooled_output'])\n",
        "    l = tf.keras.layers.Dense(1, activation='sigmoid', name=\"output\")(l)\n",
        "    # Use inputs and outputs to construct a final model\n",
        "    self.bert_model = tf.keras.Model(inputs=[text_input], outputs = [l])\n",
        "\n",
        "\n",
        "  def text_cleaner(self, tweet):\n",
        "    tweet = re.sub('@[\\w]+','',tweet)   #removes username handles\n",
        "    tweet = re.sub(r\"http\\S+\", \"\",tweet) #removes links/urls\n",
        "    tweet = re.sub(r'#', '', tweet)       #removes \"#\"\n",
        "    tweet = re.sub(r'([A-Za-z])\\1{2,}', r'\\1', tweet) #removes repeating characters and replaces with single character\n",
        "\n",
        "    tweet = re.sub(r' 0 ', 'zero', tweet)        #only number allowed is zero in alphabet form, all other omitted\n",
        "    tweet = re.sub(r'[^A-Za-z ]', '', tweet)\n",
        "\n",
        "    tweet = tweet.lower()\n",
        "    return tweet\n",
        "\n",
        "  def split(self, test_size , random_seed):\n",
        "    X_train, X_test, y_train, y_test = train_test_split(self.X, self.y, test_size= test_size, random_state=random_seed)\n",
        "    self.X_train = X_train\n",
        "    self.X_test = X_test\n",
        "    self.y_train = y_train\n",
        "    self.y_test = y_test\n",
        "\n",
        "  def bert_fit(self, epochs, batches):\n",
        "    self.bert_model.compile(optimizer='adam', loss='binary_crossentropy', metrics=['accuracy'])\n",
        "    history = self.bert_model.fit(self.X_train, self.y_train, epochs= epochs, batch_size = batches)\n",
        "\n",
        "\n",
        "  def bert_metrics(self):\n",
        "    y_pred = self.bert_model.predict(self.X_test)\n",
        "    y_pred = y_pred.flatten()\n",
        "    tp =0\n",
        "    fp =0\n",
        "    tn =0\n",
        "    fn=0\n",
        "    print(len(y_pred))\n",
        "    print(len(self.y_test))\n",
        "    for i in range(len(y_pred)):\n",
        "\n",
        "      if(y_pred[i]>0.5):\n",
        "        if(self.y_test.iloc[i]==0):\n",
        "          fp+=1\n",
        "        else:\n",
        "          tp+=1\n",
        "      else:\n",
        "        if(self.y_test.iloc[i]==0):\n",
        "          tn+=1\n",
        "        else:\n",
        "          fn+=1\n",
        "    self.print_confusion(tp,tn,fp,fn)"
      ],
      "metadata": {
        "id": "yiHNAOyvVUox"
      },
      "execution_count": 38,
      "outputs": []
    },
    {
      "cell_type": "code",
      "source": [
        "data_file = \"data/airline_sentiment_analysis.csv\"\n",
        "bert_model = model(data_file)\n",
        "bert_model.bert_initialise()\n",
        "bert_model.split(0.2 , 42)                  #(test_size , random_seed)\n",
        "bert_model.bert_fit(4 , 75)                 #(epochs , batch_size)\n",
        "bert_model.bert_metrics()"
      ],
      "metadata": {
        "colab": {
          "base_uri": "https://localhost:8080/"
        },
        "id": "ujrOGroHhpkC",
        "outputId": "574cb662-0540-4188-b6a2-67ad5c791443"
      },
      "execution_count": 41,
      "outputs": [
        {
          "output_type": "stream",
          "name": "stdout",
          "text": [
            "Epoch 1/4\n",
            "124/124 [==============================] - 42s 316ms/step - loss: 0.4421 - accuracy: 0.8131\n",
            "Epoch 2/4\n",
            "124/124 [==============================] - 39s 316ms/step - loss: 0.3398 - accuracy: 0.8605\n",
            "Epoch 3/4\n",
            "124/124 [==============================] - 39s 316ms/step - loss: 0.3031 - accuracy: 0.8777\n",
            "Epoch 4/4\n",
            "124/124 [==============================] - 40s 319ms/step - loss: 0.2881 - accuracy: 0.8836\n",
            "73/73 [==============================] - 7s 94ms/step\n",
            "2309\n",
            "2309\n",
            "recall:  0.5503355704697986\n",
            "precision:  0.8945454545454545\n",
            "accuracy  0.9003897791251624\n",
            "f1_score  0.6814404432132964\n"
          ]
        }
      ]
    },
    {
      "cell_type": "code",
      "source": [
        "data_file = \"data/airline_sentiment_analysis.csv\"\n",
        "randomf_model = model(data_file)\n",
        "randomf_model.vectoriser_initialise(150, 0) #(n_estimators , random_seed)\n",
        "randomf_model.split(0.2 , 42)               #(test_size , random_seed)\n",
        "randomf_model.vectoriser_fit()\n",
        "randomf_model.vectoriser_metrics()"
      ],
      "metadata": {
        "colab": {
          "base_uri": "https://localhost:8080/"
        },
        "id": "OR0QM9dEjq5M",
        "outputId": "d51d94a3-81bb-444f-c274-7f56f652f20d"
      },
      "execution_count": 31,
      "outputs": [
        {
          "output_type": "stream",
          "name": "stderr",
          "text": [
            "/usr/local/lib/python3.8/dist-packages/pandas/core/indexing.py:1732: SettingWithCopyWarning: \n",
            "A value is trying to be set on a copy of a slice from a DataFrame\n",
            "\n",
            "See the caveats in the documentation: https://pandas.pydata.org/pandas-docs/stable/user_guide/indexing.html#returning-a-view-versus-a-copy\n",
            "  self._setitem_single_block(indexer, value, name)\n"
          ]
        },
        {
          "output_type": "stream",
          "name": "stdout",
          "text": [
            "recall:  0.9174782162993337\n",
            "precision:  0.9613319011815252\n",
            "accuracy  0.899090515374621\n",
            "f1_score  0.938893259900341\n"
          ]
        }
      ]
    },
    {
      "cell_type": "code",
      "source": [
        "pickle_out = open(\"trained_models/randomf_model.pkl\" , \"wb\")\n",
        "pickle.dump(randomf_model.vectoriser_model , pickle_out )\n",
        "pickle_out.close()"
      ],
      "metadata": {
        "id": "RkW9yQmYmqAn"
      },
      "execution_count": 32,
      "outputs": []
    },
    {
      "cell_type": "code",
      "source": [
        "cv_out = open(\"trained_models/vectors.pkl\" , \"wb\")\n",
        "pickle.dump(randomf_model.cv , cv_out)\n",
        "pickle_out.close()"
      ],
      "metadata": {
        "id": "VX8uGvPlejSd"
      },
      "execution_count": 33,
      "outputs": []
    },
    {
      "cell_type": "code",
      "source": [
        "bert_out = open(\"trained_models/bert_model.pkl\" , \"wb\")\n",
        "pickle.dump(bert_model.bert_model , bert_out )\n",
        "bert_out.close()"
      ],
      "metadata": {
        "colab": {
          "base_uri": "https://localhost:8080/"
        },
        "id": "NlBuKG8uKWCS",
        "outputId": "8a9bc1a0-510a-4f4f-8c19-2d56221e6361"
      },
      "execution_count": 44,
      "outputs": [
        {
          "output_type": "stream",
          "name": "stderr",
          "text": [
            "WARNING:absl:Found untraced functions such as restored_function_body, restored_function_body, restored_function_body, restored_function_body, restored_function_body while saving (showing 5 of 124). These functions will not be directly callable after loading.\n"
          ]
        }
      ]
    },
    {
      "cell_type": "code",
      "source": [],
      "metadata": {
        "id": "94WczBXJKypc"
      },
      "execution_count": null,
      "outputs": []
    }
  ]
}